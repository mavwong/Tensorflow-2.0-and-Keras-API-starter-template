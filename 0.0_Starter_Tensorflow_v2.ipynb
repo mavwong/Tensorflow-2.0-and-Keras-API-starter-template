{
  "nbformat": 4,
  "nbformat_minor": 0,
  "metadata": {
    "colab": {
      "name": "0.0: Starter Tensorflow  v2.0",
      "version": "0.3.2",
      "provenance": [],
      "collapsed_sections": []
    },
    "kernelspec": {
      "name": "python3",
      "display_name": "Python 3"
    },
    "accelerator": "GPU"
  },
  "cells": [
    {
      "metadata": {
        "id": "DtfMowO0rjd2",
        "colab_type": "text"
      },
      "cell_type": "markdown",
      "source": [
        "## ***00.*** - Importing Dependencies"
      ]
    },
    {
      "metadata": {
        "id": "AyLpVASmrE2W",
        "colab_type": "code",
        "colab": {}
      },
      "cell_type": "code",
      "source": [
        "# Reset all runtimes then install:\n",
        "#!pip install tensorflow-gpu==2.0.0-alpha0\n",
        "\n",
        "# Reset all runtimes again, \n",
        "# Change Runtime Hardware Accelerator to: GPU\n",
        "# Then comment this out."
      ],
      "execution_count": 0,
      "outputs": []
    },
    {
      "metadata": {
        "id": "h7SBSLv-rQAD",
        "colab_type": "code",
        "colab": {}
      },
      "cell_type": "code",
      "source": [
        "from __future__ import absolute_import\n",
        "from __future__ import division\n",
        "from __future__ import print_function"
      ],
      "execution_count": 0,
      "outputs": []
    },
    {
      "metadata": {
        "id": "LrGaGnjarX9X",
        "colab_type": "code",
        "colab": {}
      },
      "cell_type": "code",
      "source": [
        "import tensorflow as tf"
      ],
      "execution_count": 0,
      "outputs": []
    },
    {
      "metadata": {
        "id": "WHASrusirksF",
        "colab_type": "text"
      },
      "cell_type": "markdown",
      "source": [
        "## ***01.*** - Importing Data"
      ]
    },
    {
      "metadata": {
        "id": "YOVw82lyrZgu",
        "colab_type": "code",
        "colab": {}
      },
      "cell_type": "code",
      "source": [
        "mnist = tf.keras.datasets.mnist\n",
        "\n",
        "# loading the data\n",
        "(x_train, y_train), (x_test, y_test) = mnist.load_data()\n",
        "\n",
        "# normalizing the data\n",
        "x_train = x_train / 255.0\n",
        "x_test = x_test / 255.0"
      ],
      "execution_count": 0,
      "outputs": []
    },
    {
      "metadata": {
        "id": "EAYSKt4AruoV",
        "colab_type": "text"
      },
      "cell_type": "markdown",
      "source": [
        "## ***02.*** - Model Network"
      ]
    },
    {
      "metadata": {
        "id": "Oy30TEvurtky",
        "colab_type": "code",
        "outputId": "b96e5b58-c110-420f-a4b2-b78f47b26cec",
        "colab": {
          "base_uri": "https://localhost:8080/",
          "height": 141
        }
      },
      "cell_type": "code",
      "source": [
        "final_model = tf.keras.models.Sequential([\n",
        "  tf.keras.layers.Flatten(input_shape=(28, 28)),\n",
        "  tf.keras.layers.Dense(128, activation='relu'),\n",
        "  tf.keras.layers.Dropout(0.2),\n",
        "  tf.keras.layers.Dense(10, activation='softmax')\n",
        "])"
      ],
      "execution_count": 5,
      "outputs": [
        {
          "output_type": "stream",
          "text": [
            "WARNING:tensorflow:From /usr/local/lib/python3.6/dist-packages/tensorflow/python/ops/resource_variable_ops.py:435: colocate_with (from tensorflow.python.framework.ops) is deprecated and will be removed in a future version.\n",
            "Instructions for updating:\n",
            "Colocations handled automatically by placer.\n",
            "WARNING:tensorflow:From /usr/local/lib/python3.6/dist-packages/tensorflow/python/keras/layers/core.py:143: calling dropout (from tensorflow.python.ops.nn_ops) with keep_prob is deprecated and will be removed in a future version.\n",
            "Instructions for updating:\n",
            "Please use `rate` instead of `keep_prob`. Rate should be set to `rate = 1 - keep_prob`.\n"
          ],
          "name": "stdout"
        }
      ]
    },
    {
      "metadata": {
        "id": "toMpjQpBr0bt",
        "colab_type": "text"
      },
      "cell_type": "markdown",
      "source": [
        "## ***03.*** - Model Compiling (Optimizer, Loss, Metrics)"
      ]
    },
    {
      "metadata": {
        "id": "L0s_rIOmr0Cq",
        "colab_type": "code",
        "colab": {}
      },
      "cell_type": "code",
      "source": [
        "final_model.compile(optimizer='adam',\n",
        "              loss='sparse_categorical_crossentropy',\n",
        "              metrics=['accuracy'])"
      ],
      "execution_count": 0,
      "outputs": []
    },
    {
      "metadata": {
        "id": "Cm0qg5C6r-0c",
        "colab_type": "text"
      },
      "cell_type": "markdown",
      "source": [
        "## ***04.*** - Model Fitting and Evaluating"
      ]
    },
    {
      "metadata": {
        "id": "sPHjwZea9y0S",
        "colab_type": "code",
        "colab": {}
      },
      "cell_type": "code",
      "source": [
        "num_epochs=25\n",
        "steps_per_epoch = 13750"
      ],
      "execution_count": 0,
      "outputs": []
    },
    {
      "metadata": {
        "id": "TQ-BoC-8r9uN",
        "colab_type": "code",
        "outputId": "a3efa2c4-ea1f-43be-9ba4-baa12822f6d4",
        "colab": {
          "base_uri": "https://localhost:8080/",
          "height": 901
        }
      },
      "cell_type": "code",
      "source": [
        "final_model.fit(x_train, y_train, epochs=num_epochs)"
      ],
      "execution_count": 8,
      "outputs": [
        {
          "output_type": "stream",
          "text": [
            "Epoch 1/25\n",
            "60000/60000 [==============================] - 10s 163us/sample - loss: 0.2979 - acc: 0.9147\n",
            "Epoch 2/25\n",
            "60000/60000 [==============================] - 9s 154us/sample - loss: 0.1443 - acc: 0.9573\n",
            "Epoch 3/25\n",
            "60000/60000 [==============================] - 9s 155us/sample - loss: 0.1069 - acc: 0.9677\n",
            "Epoch 4/25\n",
            "60000/60000 [==============================] - 9s 155us/sample - loss: 0.0880 - acc: 0.9719\n",
            "Epoch 5/25\n",
            "60000/60000 [==============================] - 10s 162us/sample - loss: 0.0756 - acc: 0.9765\n",
            "Epoch 6/25\n",
            "60000/60000 [==============================] - 10s 166us/sample - loss: 0.0651 - acc: 0.9798\n",
            "Epoch 7/25\n",
            "60000/60000 [==============================] - 9s 153us/sample - loss: 0.0579 - acc: 0.9815\n",
            "Epoch 8/25\n",
            "60000/60000 [==============================] - 9s 152us/sample - loss: 0.0536 - acc: 0.9825\n",
            "Epoch 9/25\n",
            "60000/60000 [==============================] - 9s 154us/sample - loss: 0.0476 - acc: 0.9851\n",
            "Epoch 10/25\n",
            "60000/60000 [==============================] - 9s 156us/sample - loss: 0.0450 - acc: 0.9849\n",
            "Epoch 11/25\n",
            "60000/60000 [==============================] - 9s 155us/sample - loss: 0.0415 - acc: 0.9865\n",
            "Epoch 12/25\n",
            "60000/60000 [==============================] - 9s 156us/sample - loss: 0.0408 - acc: 0.9860\n",
            "Epoch 13/25\n",
            "60000/60000 [==============================] - 9s 158us/sample - loss: 0.0371 - acc: 0.9878\n",
            "Epoch 14/25\n",
            "60000/60000 [==============================] - 11s 175us/sample - loss: 0.0353 - acc: 0.9883\n",
            "Epoch 15/25\n",
            "60000/60000 [==============================] - 10s 166us/sample - loss: 0.0343 - acc: 0.9884\n",
            "Epoch 16/25\n",
            "60000/60000 [==============================] - 9s 158us/sample - loss: 0.0318 - acc: 0.9891\n",
            "Epoch 17/25\n",
            "60000/60000 [==============================] - 10s 173us/sample - loss: 0.0287 - acc: 0.9900\n",
            "Epoch 18/25\n",
            "60000/60000 [==============================] - 9s 153us/sample - loss: 0.0296 - acc: 0.9896\n",
            "Epoch 19/25\n",
            "60000/60000 [==============================] - 9s 155us/sample - loss: 0.0273 - acc: 0.9905\n",
            "Epoch 20/25\n",
            "60000/60000 [==============================] - 9s 155us/sample - loss: 0.0268 - acc: 0.9906\n",
            "Epoch 21/25\n",
            "60000/60000 [==============================] - 9s 155us/sample - loss: 0.0251 - acc: 0.9912\n",
            "Epoch 22/25\n",
            "60000/60000 [==============================] - 10s 169us/sample - loss: 0.0253 - acc: 0.9916\n",
            "Epoch 23/25\n",
            "60000/60000 [==============================] - 10s 160us/sample - loss: 0.0247 - acc: 0.9917\n",
            "Epoch 24/25\n",
            "60000/60000 [==============================] - 9s 155us/sample - loss: 0.0238 - acc: 0.9920\n",
            "Epoch 25/25\n",
            "60000/60000 [==============================] - 9s 157us/sample - loss: 0.0218 - acc: 0.9922\n"
          ],
          "name": "stdout"
        },
        {
          "output_type": "execute_result",
          "data": {
            "text/plain": [
              "<tensorflow.python.keras.callbacks.History at 0x7f114ab8ac18>"
            ]
          },
          "metadata": {
            "tags": []
          },
          "execution_count": 8
        }
      ]
    },
    {
      "metadata": {
        "id": "yXHHF1l5ubOM",
        "colab_type": "code",
        "outputId": "38e032fd-630c-4213-bdf1-a341d55e3d4c",
        "colab": {
          "base_uri": "https://localhost:8080/",
          "height": 52
        }
      },
      "cell_type": "code",
      "source": [
        "final_model.evaluate(x_test, y_test)"
      ],
      "execution_count": 9,
      "outputs": [
        {
          "output_type": "stream",
          "text": [
            "10000/10000 [==============================] - 1s 98us/sample - loss: 0.0950 - acc: 0.9807\n"
          ],
          "name": "stdout"
        },
        {
          "output_type": "execute_result",
          "data": {
            "text/plain": [
              "[0.09502114643117383, 0.9807]"
            ]
          },
          "metadata": {
            "tags": []
          },
          "execution_count": 9
        }
      ]
    },
    {
      "metadata": {
        "id": "3y7xghZAsc5L",
        "colab_type": "text"
      },
      "cell_type": "markdown",
      "source": [
        "## ***Conclusion:***\n",
        "\n",
        "#### The model is a good way to start first iteration or experiment of convolutional neural network. Convolutional Neural Network are used to analyze visual imagery such as images and videos. Although many key concepts are not implemented here. Key concepts that should result for better performance and better results, such as:\n",
        "\n",
        "  - Transfer Learning (DenseNet, ResNet, Inception)\n",
        "  - Multi-task Learning\n",
        "  - Model Freezing\n",
        "  - Data Augmentation\n",
        "  - Data Generator \n",
        "  - Callbacks\n",
        "  - Tensorboard\n",
        "  \n",
        "#### I am making this project as a guideline for future competitions and projects. Also, this is a good way to structure my mind towards high level API of tensorflow. I will make sure to update with key concepts written above."
      ]
    },
    {
      "metadata": {
        "id": "NrkbgQE7sMu2",
        "colab_type": "text"
      },
      "cell_type": "markdown",
      "source": [
        "## ***References:*** \n",
        "\n",
        "  - https://colab.research.google.com/github/tensorflow/docs/blob/master/site/en/r2/tutorials/quickstart/beginner.ipynb#scrollTo=F7dTAzgHDUh7"
      ]
    }
  ]
}