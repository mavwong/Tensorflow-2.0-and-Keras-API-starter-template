{
  "nbformat": 4,
  "nbformat_minor": 0,
  "metadata": {
    "colab": {
      "name": "1.0_Starter_Tensorflow/Keras_.ipynb",
      "version": "0.3.2",
      "provenance": [],
      "collapsed_sections": []
    },
    "kernelspec": {
      "name": "python3",
      "display_name": "Python 3"
    }
  },
  "cells": [
    {
      "metadata": {
        "id": "K5i2lJZ-fTJV",
        "colab_type": "text"
      },
      "cell_type": "markdown",
      "source": [
        "## ***00.*** - Install & Import Dependencies"
      ]
    },
    {
      "metadata": {
        "id": "X1sRQH2ZpssG",
        "colab_type": "code",
        "colab": {}
      },
      "cell_type": "code",
      "source": [
        "# Reset all runtimes then install:\n",
        "#!pip install tensorflow-gpu\n",
        "\n",
        "# Reset all runtimes again, \n",
        "# Change Runtime Hardware Accelerator to: GPU\n",
        "# Then comment this out."
      ],
      "execution_count": 0,
      "outputs": []
    },
    {
      "metadata": {
        "id": "qvOZO7Xxf1KF",
        "colab_type": "code",
        "colab": {
          "base_uri": "https://localhost:8080/",
          "height": 34
        },
        "outputId": "1d8cfd3f-52d8-41bb-f782-9a5449c097d5"
      },
      "cell_type": "code",
      "source": [
        "# installing tensorboard in colab\n",
        "!pip install -U tensorboardcolab"
      ],
      "execution_count": 1,
      "outputs": [
        {
          "output_type": "stream",
          "text": [
            "Requirement already up-to-date: tensorboardcolab in /usr/local/lib/python3.6/dist-packages (0.0.22)\n"
          ],
          "name": "stdout"
        }
      ]
    },
    {
      "metadata": {
        "id": "nOcqGiDef3Rw",
        "colab_type": "code",
        "colab": {
          "base_uri": "https://localhost:8080/",
          "height": 757
        },
        "outputId": "590793ed-1989-4cfc-d492-f1a76d04f903"
      },
      "cell_type": "code",
      "source": [
        "!pip install livelossplot"
      ],
      "execution_count": 2,
      "outputs": [
        {
          "output_type": "stream",
          "text": [
            "Collecting livelossplot\n",
            "  Downloading https://files.pythonhosted.org/packages/98/8e/78971439245b2c2e602799f6fe11d7399f89492c265e210a420d305c003a/livelossplot-0.3.4-py3-none-any.whl\n",
            "Requirement already satisfied: matplotlib in /usr/local/lib/python3.6/dist-packages (from livelossplot) (3.0.3)\n",
            "Requirement already satisfied: notebook in /usr/local/lib/python3.6/dist-packages (from livelossplot) (5.2.2)\n",
            "Requirement already satisfied: numpy>=1.10.0 in /usr/local/lib/python3.6/dist-packages (from matplotlib->livelossplot) (1.16.2)\n",
            "Requirement already satisfied: pyparsing!=2.0.4,!=2.1.2,!=2.1.6,>=2.0.1 in /usr/local/lib/python3.6/dist-packages (from matplotlib->livelossplot) (2.4.0)\n",
            "Requirement already satisfied: python-dateutil>=2.1 in /usr/local/lib/python3.6/dist-packages (from matplotlib->livelossplot) (2.5.3)\n",
            "Requirement already satisfied: kiwisolver>=1.0.1 in /usr/local/lib/python3.6/dist-packages (from matplotlib->livelossplot) (1.0.1)\n",
            "Requirement already satisfied: cycler>=0.10 in /usr/local/lib/python3.6/dist-packages (from matplotlib->livelossplot) (0.10.0)\n",
            "Requirement already satisfied: ipykernel in /usr/local/lib/python3.6/dist-packages (from notebook->livelossplot) (4.6.1)\n",
            "Requirement already satisfied: ipython-genutils in /usr/local/lib/python3.6/dist-packages (from notebook->livelossplot) (0.2.0)\n",
            "Requirement already satisfied: terminado>=0.3.3; sys_platform != \"win32\" in /usr/local/lib/python3.6/dist-packages (from notebook->livelossplot) (0.8.2)\n",
            "Requirement already satisfied: nbformat in /usr/local/lib/python3.6/dist-packages (from notebook->livelossplot) (4.4.0)\n",
            "Requirement already satisfied: jinja2 in /usr/local/lib/python3.6/dist-packages (from notebook->livelossplot) (2.10.1)\n",
            "Requirement already satisfied: nbconvert in /usr/local/lib/python3.6/dist-packages (from notebook->livelossplot) (5.4.1)\n",
            "Requirement already satisfied: jupyter-core in /usr/local/lib/python3.6/dist-packages (from notebook->livelossplot) (4.4.0)\n",
            "Requirement already satisfied: jupyter-client in /usr/local/lib/python3.6/dist-packages (from notebook->livelossplot) (5.2.4)\n",
            "Requirement already satisfied: tornado>=4 in /usr/local/lib/python3.6/dist-packages (from notebook->livelossplot) (4.5.3)\n",
            "Requirement already satisfied: traitlets>=4.2.1 in /usr/local/lib/python3.6/dist-packages (from notebook->livelossplot) (4.3.2)\n",
            "Requirement already satisfied: six>=1.5 in /usr/local/lib/python3.6/dist-packages (from python-dateutil>=2.1->matplotlib->livelossplot) (1.11.0)\n",
            "Requirement already satisfied: setuptools in /usr/local/lib/python3.6/dist-packages (from kiwisolver>=1.0.1->matplotlib->livelossplot) (40.9.0)\n",
            "Requirement already satisfied: ipython>=4.0.0 in /usr/local/lib/python3.6/dist-packages (from ipykernel->notebook->livelossplot) (5.5.0)\n",
            "Requirement already satisfied: ptyprocess; os_name != \"nt\" in /usr/local/lib/python3.6/dist-packages (from terminado>=0.3.3; sys_platform != \"win32\"->notebook->livelossplot) (0.6.0)\n",
            "Requirement already satisfied: jsonschema!=2.5.0,>=2.4 in /usr/local/lib/python3.6/dist-packages (from nbformat->notebook->livelossplot) (2.6.0)\n",
            "Requirement already satisfied: MarkupSafe>=0.23 in /usr/local/lib/python3.6/dist-packages (from jinja2->notebook->livelossplot) (1.1.1)\n",
            "Requirement already satisfied: pandocfilters>=1.4.1 in /usr/local/lib/python3.6/dist-packages (from nbconvert->notebook->livelossplot) (1.4.2)\n",
            "Requirement already satisfied: pygments in /usr/local/lib/python3.6/dist-packages (from nbconvert->notebook->livelossplot) (2.1.3)\n",
            "Requirement already satisfied: entrypoints>=0.2.2 in /usr/local/lib/python3.6/dist-packages (from nbconvert->notebook->livelossplot) (0.3)\n",
            "Requirement already satisfied: bleach in /usr/local/lib/python3.6/dist-packages (from nbconvert->notebook->livelossplot) (3.1.0)\n",
            "Requirement already satisfied: defusedxml in /usr/local/lib/python3.6/dist-packages (from nbconvert->notebook->livelossplot) (0.5.0)\n",
            "Requirement already satisfied: testpath in /usr/local/lib/python3.6/dist-packages (from nbconvert->notebook->livelossplot) (0.4.2)\n",
            "Requirement already satisfied: mistune>=0.8.1 in /usr/local/lib/python3.6/dist-packages (from nbconvert->notebook->livelossplot) (0.8.4)\n",
            "Requirement already satisfied: pyzmq>=13 in /usr/local/lib/python3.6/dist-packages (from jupyter-client->notebook->livelossplot) (17.0.0)\n",
            "Requirement already satisfied: decorator in /usr/local/lib/python3.6/dist-packages (from traitlets>=4.2.1->notebook->livelossplot) (4.4.0)\n",
            "Requirement already satisfied: prompt-toolkit<2.0.0,>=1.0.4 in /usr/local/lib/python3.6/dist-packages (from ipython>=4.0.0->ipykernel->notebook->livelossplot) (1.0.16)\n",
            "Requirement already satisfied: simplegeneric>0.8 in /usr/local/lib/python3.6/dist-packages (from ipython>=4.0.0->ipykernel->notebook->livelossplot) (0.8.1)\n",
            "Requirement already satisfied: pickleshare in /usr/local/lib/python3.6/dist-packages (from ipython>=4.0.0->ipykernel->notebook->livelossplot) (0.7.5)\n",
            "Requirement already satisfied: pexpect; sys_platform != \"win32\" in /usr/local/lib/python3.6/dist-packages (from ipython>=4.0.0->ipykernel->notebook->livelossplot) (4.7.0)\n",
            "Requirement already satisfied: webencodings in /usr/local/lib/python3.6/dist-packages (from bleach->nbconvert->notebook->livelossplot) (0.5.1)\n",
            "Requirement already satisfied: wcwidth in /usr/local/lib/python3.6/dist-packages (from prompt-toolkit<2.0.0,>=1.0.4->ipython>=4.0.0->ipykernel->notebook->livelossplot) (0.1.7)\n",
            "Installing collected packages: livelossplot\n",
            "Successfully installed livelossplot-0.3.4\n"
          ],
          "name": "stdout"
        }
      ]
    },
    {
      "metadata": {
        "id": "ZKe3a8P9aN4f",
        "colab_type": "code",
        "colab": {}
      },
      "cell_type": "code",
      "source": [
        "from __future__ import print_function\n",
        "\n",
        "import numpy as np\n",
        "import tensorflow as tf\n",
        "\n",
        "import keras\n",
        "from keras.datasets import mnist\n",
        "from keras.models import Sequential\n",
        "from keras.layers import Dense, Dropout, Flatten\n",
        "from keras.layers import Conv2D, MaxPooling2D\n",
        "from keras import backend as K\n",
        "\n",
        "from keras.preprocessing.image import ImageDataGenerator\n",
        "from keras.callbacks import ReduceLROnPlateau, CSVLogger, ModelCheckpoint\n",
        "\n",
        "from tensorboardcolab import *\n",
        "from keras.callbacks import TensorBoard\n",
        "\n",
        "from livelossplot.keras import PlotLossesCallback"
      ],
      "execution_count": 0,
      "outputs": []
    },
    {
      "metadata": {
        "id": "IeptkBBufbs3",
        "colab_type": "code",
        "colab": {
          "base_uri": "https://localhost:8080/",
          "height": 68
        },
        "outputId": "18abec41-910e-43dd-c4c5-4b6d82181a64"
      },
      "cell_type": "code",
      "source": [
        "tbc = TensorBoardColab()"
      ],
      "execution_count": 6,
      "outputs": [
        {
          "output_type": "stream",
          "text": [
            "Wait for 8 seconds...\n",
            "TensorBoard link:\n",
            "https://117ad6e2.ngrok.io\n"
          ],
          "name": "stdout"
        }
      ]
    },
    {
      "metadata": {
        "id": "ZXD20bygfcHr",
        "colab_type": "text"
      },
      "cell_type": "markdown",
      "source": [
        "## ***01.*** - Import the Data and Exploring the Data"
      ]
    },
    {
      "metadata": {
        "id": "U6pToMkeaZQ3",
        "colab_type": "code",
        "colab": {}
      },
      "cell_type": "code",
      "source": [
        "num_classes = 10\n",
        "\n",
        "img_width, img_height  = 28, 28"
      ],
      "execution_count": 0,
      "outputs": []
    },
    {
      "metadata": {
        "id": "UDNUplbxabMu",
        "colab_type": "code",
        "colab": {
          "base_uri": "https://localhost:8080/",
          "height": 51
        },
        "outputId": "3c072eec-6661-4e67-e145-2d1caeefeb66"
      },
      "cell_type": "code",
      "source": [
        "# the data, split between train and test sets\n",
        "(x_train, y_train), (x_test, y_test) = mnist.load_data()\n",
        "\n",
        "\n",
        "if K.image_data_format() == 'channels_first':\n",
        "    x_train = x_train.reshape(x_train.shape[0], 1, img_width, img_height )\n",
        "    x_test = x_test.reshape(x_test.shape[0], 1, img_width, img_height )\n",
        "    input_shape = (1, img_width, img_height )\n",
        "else:\n",
        "    x_train = x_train.reshape(x_train.shape[0], img_width, img_height, 1)\n",
        "    x_test = x_test.reshape(x_test.shape[0], img_width, img_height, 1)\n",
        "    input_shape = (img_width, img_height, 1)"
      ],
      "execution_count": 8,
      "outputs": [
        {
          "output_type": "stream",
          "text": [
            "Downloading data from https://s3.amazonaws.com/img-datasets/mnist.npz\n",
            "11493376/11490434 [==============================] - 0s 0us/step\n"
          ],
          "name": "stdout"
        }
      ]
    },
    {
      "metadata": {
        "id": "1vC8iMjGacQK",
        "colab_type": "code",
        "colab": {
          "base_uri": "https://localhost:8080/",
          "height": 68
        },
        "outputId": "930123fc-d381-40af-9094-1cf3d01d7fc8"
      },
      "cell_type": "code",
      "source": [
        "x_train = x_train.astype(np.float32)\n",
        "x_test = x_test.astype(np.float32)\n",
        "\n",
        "# normalizing the data\n",
        "x_train /= 255\n",
        "x_test /= 255\n",
        "\n",
        "print('x_train shape:', x_train.shape)\n",
        "print(x_train.shape[0], 'train samples')\n",
        "print(x_test.shape[0], 'test samples')"
      ],
      "execution_count": 9,
      "outputs": [
        {
          "output_type": "stream",
          "text": [
            "x_train shape: (60000, 28, 28, 1)\n",
            "60000 train samples\n",
            "10000 test samples\n"
          ],
          "name": "stdout"
        }
      ]
    },
    {
      "metadata": {
        "id": "EiuedV1daeux",
        "colab_type": "code",
        "colab": {}
      },
      "cell_type": "code",
      "source": [
        "# convert class vectors to binary class matrices\n",
        "y_train = keras.utils.to_categorical(y_train, num_classes)\n",
        "y_test = keras.utils.to_categorical(y_test, num_classes)"
      ],
      "execution_count": 0,
      "outputs": []
    },
    {
      "metadata": {
        "id": "HIS60mevhlnO",
        "colab_type": "text"
      },
      "cell_type": "markdown",
      "source": [
        "## ***02.*** - Data Augmentation"
      ]
    },
    {
      "metadata": {
        "id": "dG2FaqNGhlJh",
        "colab_type": "code",
        "colab": {}
      },
      "cell_type": "code",
      "source": [
        "# What transformation are we going to do to the image?\n",
        "train_gen = ImageDataGenerator(rotation_range=8, \n",
        "                               width_shift_range=0.08, \n",
        "                               shear_range=0.3, \n",
        "                               height_shift_range=0.08, \n",
        "                               zoom_range=0.08)\n",
        "test_gen = ImageDataGenerator()\n",
        "\n",
        "# Applying the transformation to the training and testing set\n",
        "training_set= train_gen.flow(x_train, y_train, batch_size=64)\n",
        "test_set= train_gen.flow(x_test, y_test, batch_size=64)"
      ],
      "execution_count": 0,
      "outputs": []
    },
    {
      "metadata": {
        "id": "gIUv4VCPbFRh",
        "colab_type": "text"
      },
      "cell_type": "markdown",
      "source": [
        "## ***03.*** - Model Network"
      ]
    },
    {
      "metadata": {
        "id": "1KkDAxCNagJm",
        "colab_type": "code",
        "colab": {
          "base_uri": "https://localhost:8080/",
          "height": 140
        },
        "outputId": "d9bcf422-65f9-4609-f9ee-2353fc8156c3"
      },
      "cell_type": "code",
      "source": [
        "model = Sequential()\n",
        "model.add(Conv2D(32, kernel_size=(3, 3),\n",
        "                 activation='relu',\n",
        "                 input_shape=input_shape))\n",
        "model.add(Conv2D(64, (3, 3), activation='relu'))\n",
        "model.add(MaxPooling2D(pool_size=(2, 2)))\n",
        "model.add(Dropout(0.25))\n",
        "model.add(Flatten())\n",
        "model.add(Dense(128, activation='relu'))\n",
        "model.add(Dropout(0.5))\n",
        "model.add(Dense(num_classes, activation='softmax'))"
      ],
      "execution_count": 11,
      "outputs": [
        {
          "output_type": "stream",
          "text": [
            "WARNING:tensorflow:From /usr/local/lib/python3.6/dist-packages/tensorflow/python/framework/op_def_library.py:263: colocate_with (from tensorflow.python.framework.ops) is deprecated and will be removed in a future version.\n",
            "Instructions for updating:\n",
            "Colocations handled automatically by placer.\n",
            "WARNING:tensorflow:From /usr/local/lib/python3.6/dist-packages/keras/backend/tensorflow_backend.py:3445: calling dropout (from tensorflow.python.ops.nn_ops) with keep_prob is deprecated and will be removed in a future version.\n",
            "Instructions for updating:\n",
            "Please use `rate` instead of `keep_prob`. Rate should be set to `rate = 1 - keep_prob`.\n"
          ],
          "name": "stdout"
        }
      ]
    },
    {
      "metadata": {
        "id": "c7n1YB1kpEvA",
        "colab_type": "code",
        "colab": {}
      },
      "cell_type": "code",
      "source": [
        "model.summary()"
      ],
      "execution_count": 0,
      "outputs": []
    },
    {
      "metadata": {
        "id": "z8fOmofhbJcZ",
        "colab_type": "text"
      },
      "cell_type": "markdown",
      "source": [
        "## ***04.*** - Hyperparameters\n",
        "*Most fine-tuning will happened in this block* "
      ]
    },
    {
      "metadata": {
        "id": "k0ZCViebbOWr",
        "colab_type": "code",
        "colab": {
          "base_uri": "https://localhost:8080/",
          "height": 34
        },
        "outputId": "1e800e5c-f19e-480d-cfa2-5c2c2fefa6af"
      },
      "cell_type": "code",
      "source": [
        "# hyperparameters\n",
        "learning_rate = 0.001\n",
        "\n",
        "num_epochs = 10\n",
        "verbosity = 1\n",
        "\n",
        "steps_per_epoch = int(x_train.shape[0] / 64)\n",
        "validation_steps = int(x_test.shape[0] / 64)\n",
        "#or\n",
        "batch_size = 128\n",
        "\n",
        "\n",
        "# output files\n",
        "TRAINING_LOGS_FILE = 'training_logs_{}.csv'.format(str(learning_rate))\n",
        "MODEL_FILE='main.h5'\n",
        "\n",
        "\n",
        "# double checking\n",
        "'''\n",
        "print(x_train.shape[0])\n",
        "print(steps_per_epoch)\n",
        "\n",
        "print(x_test.shape[0])\n",
        "print(validation_steps)\n",
        "'''"
      ],
      "execution_count": 12,
      "outputs": [
        {
          "output_type": "execute_result",
          "data": {
            "text/plain": [
              "'\\nprint(X_train.shape[0])\\nprint(steps_per_epoch)\\n\\nprint(X_test.shape[0])\\nprint(validation_steps)\\n'"
            ]
          },
          "metadata": {
            "tags": []
          },
          "execution_count": 12
        }
      ]
    },
    {
      "metadata": {
        "id": "pndPd1N-fkmz",
        "colab_type": "text"
      },
      "cell_type": "markdown",
      "source": [
        "## ***06.*** - Model Compiling (Optimizer, Loss, Metrics)"
      ]
    },
    {
      "metadata": {
        "id": "1TBTAwjZfmEU",
        "colab_type": "code",
        "colab": {
          "base_uri": "https://localhost:8080/",
          "height": 71
        },
        "outputId": "8b2f049a-8000-4026-ad9e-09aba8f3f32f"
      },
      "cell_type": "code",
      "source": [
        "# Reduce learning rate when a metric has stopped improving.\n",
        "reduce_lr = ReduceLROnPlateau(monitor='val_loss', \n",
        "                              factor=0.1, \n",
        "                              patience=10, \n",
        "                              verbose=0, \n",
        "                              mode='auto',\n",
        "                              epsilon=0.00001,\n",
        "                              cooldown=4, \n",
        "                              min_lr=10e-7)\n",
        "\n",
        "# Streams the results into a CSV File\n",
        "# Can be useful on comparing different learning rates\n",
        "csv_logger = CSVLogger(filename=TRAINING_LOGS_FILE, \n",
        "                       separator=',', append=False)\n",
        "\n",
        "# Saves the Model after every epoch\n",
        "model_checkpoint = ModelCheckpoint(filepath=MODEL_FILE,\n",
        "                                   monitor='val_loss',\n",
        "                                   verbose=0,\n",
        "                                   save_best_only=True,\n",
        "                                   save_weights_only=True,\n",
        "                                   mode='max',\n",
        "                                   period=5)\n",
        "\n",
        "plot_losses = PlotLossesCallback()\n",
        "tboard = TensorBoardColabCallback(tbc)"
      ],
      "execution_count": 13,
      "outputs": [
        {
          "output_type": "stream",
          "text": [
            "/usr/local/lib/python3.6/dist-packages/keras/callbacks.py:1065: UserWarning: `epsilon` argument is deprecated and will be removed, use `min_delta` instead.\n",
            "  warnings.warn('`epsilon` argument is deprecated and '\n"
          ],
          "name": "stderr"
        }
      ]
    },
    {
      "metadata": {
        "id": "RWQIS24Jfs2L",
        "colab_type": "code",
        "colab": {}
      },
      "cell_type": "code",
      "source": [
        "# listing all the callbacks\n",
        "callbacks = [plot_losses, tboard, csv_logger, model_checkpoint]"
      ],
      "execution_count": 0,
      "outputs": []
    },
    {
      "metadata": {
        "id": "0eZO_E98a_bU",
        "colab_type": "text"
      },
      "cell_type": "markdown",
      "source": [
        "## ***06.*** - Model Compiling (Optimizer, Loss, Metrics)"
      ]
    },
    {
      "metadata": {
        "id": "PrtLXFwAahSG",
        "colab_type": "code",
        "colab": {}
      },
      "cell_type": "code",
      "source": [
        "from keras import optimizers\n",
        "\n",
        "model.compile(loss=keras.losses.categorical_crossentropy,\n",
        "              optimizer=keras.optimizers.RMSprop(lr=learning_rate, rho=0.9, epsilon=None, decay=0.0),\n",
        "              metrics=['accuracy'])"
      ],
      "execution_count": 0,
      "outputs": []
    },
    {
      "metadata": {
        "id": "e8C-i2C5a-sK",
        "colab_type": "text"
      },
      "cell_type": "markdown",
      "source": [
        "## ***07.*** - Model Fitting and Evaluating"
      ]
    },
    {
      "metadata": {
        "id": "RE1N5VsaahsQ",
        "colab_type": "code",
        "colab": {
          "base_uri": "https://localhost:8080/",
          "height": 463
        },
        "outputId": "fc5dd5d7-6ed4-4335-c14d-eddb4449c524"
      },
      "cell_type": "code",
      "source": [
        "'''model.fit(x_train, y_train,\n",
        "          batch_size=batch_size,\n",
        "          #steps_per_epoch=steps_per_epoch,\n",
        "          #validation_steps=validation_steps,\n",
        "          epochs=num_epochs,\n",
        "          verbose=verbosity,\n",
        "          validation_data=(x_test, y_test),\n",
        "          callbacks=callbacks)'''\n",
        "\n",
        "model.fit_generator(training_set,\n",
        "                    steps_per_epoch=steps_per_epoch,\n",
        "                    validation_steps=validation_steps,\n",
        "                    epochs=num_epochs,\n",
        "                    verbose=verbosity,\n",
        "                    validation_data=test_set,\n",
        "                    callbacks=callbacks)"
      ],
      "execution_count": 24,
      "outputs": [
        {
          "output_type": "display_data",
          "data": {
            "image/png": "[encoded data removed]",
            "text/plain": [
              "<Figure size 864x576 with 2 Axes>"
            ]
          },
          "metadata": {
            "tags": []
          }
        },
        {
          "output_type": "stream",
          "text": [
            "Log-loss (cost function):\n",
            "training   (min:    0.134, max:    0.162, cur:    0.136)\n",
            "validation (min:    0.056, max:    0.101, cur:    0.071)\n",
            "\n",
            "Accuracy:\n",
            "training   (min:    0.955, max:    0.966, cur:    0.966)\n",
            "validation (min:    0.973, max:    0.985, cur:    0.981)\n"
          ],
          "name": "stdout"
        },
        {
          "output_type": "execute_result",
          "data": {
            "text/plain": [
              "<keras.callbacks.History at 0x7f40122337b8>"
            ]
          },
          "metadata": {
            "tags": []
          },
          "execution_count": 24
        }
      ]
    },
    {
      "metadata": {
        "id": "NRc_bTdKajfb",
        "colab_type": "code",
        "colab": {
          "base_uri": "https://localhost:8080/",
          "height": 51
        },
        "outputId": "a5207e5f-b1b3-41c7-eb3d-1fc342b4d837"
      },
      "cell_type": "code",
      "source": [
        "score = model.evaluate(x_test, y_test, verbose=0)\n",
        "print('Test loss:', score[0])\n",
        "print('Test accuracy:', score[1])"
      ],
      "execution_count": 25,
      "outputs": [
        {
          "output_type": "stream",
          "text": [
            "Test loss: 0.06440116626743989\n",
            "Test accuracy: 0.9868\n"
          ],
          "name": "stdout"
        }
      ]
    }
  ]
}