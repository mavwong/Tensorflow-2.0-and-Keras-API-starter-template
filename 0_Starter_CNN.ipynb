{
  "nbformat": 4,
  "nbformat_minor": 0,
  "metadata": {
    "colab": {
      "name": "0. Starter CNN",
      "version": "0.3.2",
      "provenance": [],
      "collapsed_sections": []
    },
    "kernelspec": {
      "name": "python3",
      "display_name": "Python 3"
    }
  },
  "cells": [
    {
      "metadata": {
        "id": "DtfMowO0rjd2",
        "colab_type": "text"
      },
      "cell_type": "markdown",
      "source": [
        "## ***00.*** - Importing Dependencies"
      ]
    },
    {
      "metadata": {
        "id": "AyLpVASmrE2W",
        "colab_type": "code",
        "colab": {}
      },
      "cell_type": "code",
      "source": [
        "# Reset all runtimes then install:\n",
        "!pip install tensorflow-gpu==2.0.0-alpha0\n",
        "\n",
        "# Reset all runtimes again, then comment this out."
      ],
      "execution_count": 0,
      "outputs": []
    },
    {
      "metadata": {
        "id": "h7SBSLv-rQAD",
        "colab_type": "code",
        "colab": {}
      },
      "cell_type": "code",
      "source": [
        "from __future__ import absolute_import\n",
        "from __future__ import division\n",
        "from __future__ import print_function\n",
        "from __future__ import unicode_literal"
      ],
      "execution_count": 0,
      "outputs": []
    },
    {
      "metadata": {
        "id": "LrGaGnjarX9X",
        "colab_type": "code",
        "colab": {}
      },
      "cell_type": "code",
      "source": [
        "import tensorflow as tf"
      ],
      "execution_count": 0,
      "outputs": []
    },
    {
      "metadata": {
        "id": "WHASrusirksF",
        "colab_type": "text"
      },
      "cell_type": "markdown",
      "source": [
        "## ***01.*** - Importing Data"
      ]
    },
    {
      "metadata": {
        "id": "YOVw82lyrZgu",
        "colab_type": "code",
        "colab": {}
      },
      "cell_type": "code",
      "source": [
        "mnist = tf.keras.datasets.mnist\n",
        "\n",
        "# loading the data\n",
        "(x_train, y_train), (x_test, y_test) = mnist.load_data()\n",
        "\n",
        "# normalizing the data\n",
        "x_train = x_train / 255.0\n",
        "x_test = x_test / 255.0"
      ],
      "execution_count": 0,
      "outputs": []
    },
    {
      "metadata": {
        "id": "EAYSKt4AruoV",
        "colab_type": "text"
      },
      "cell_type": "markdown",
      "source": [
        "## ***02.*** - Model Network"
      ]
    },
    {
      "metadata": {
        "id": "Oy30TEvurtky",
        "colab_type": "code",
        "colab": {}
      },
      "cell_type": "code",
      "source": [
        "final_model = tf.keras.models.Sequential([\n",
        "  tf.keras.layers.Flatten(input_shape=(28, 28)),\n",
        "  tf.keras.layers.Dense(128, activation='relu'),\n",
        "  tf.keras.layers.Dropout(0.2),\n",
        "  tf.keras.layers.Dense(10, activation='softmax')\n",
        "])"
      ],
      "execution_count": 0,
      "outputs": []
    },
    {
      "metadata": {
        "id": "toMpjQpBr0bt",
        "colab_type": "text"
      },
      "cell_type": "markdown",
      "source": [
        "## ***03.*** - Model Compiling (Optimizer, Loss, Metrics)"
      ]
    },
    {
      "metadata": {
        "id": "L0s_rIOmr0Cq",
        "colab_type": "code",
        "colab": {}
      },
      "cell_type": "code",
      "source": [
        "final_model.compile(optimizer='adam',\n",
        "              loss='sparse_categorical_crossentropy',\n",
        "              metrics=['accuracy'])"
      ],
      "execution_count": 0,
      "outputs": []
    },
    {
      "metadata": {
        "id": "Cm0qg5C6r-0c",
        "colab_type": "text"
      },
      "cell_type": "markdown",
      "source": [
        "## ***04.*** - Model Fitting and Evaluating"
      ]
    },
    {
      "metadata": {
        "id": "TQ-BoC-8r9uN",
        "colab_type": "code",
        "colab": {}
      },
      "cell_type": "code",
      "source": [
        "final_model.fit(x_train, y_train, epochs=5)"
      ],
      "execution_count": 0,
      "outputs": []
    },
    {
      "metadata": {
        "id": "yXHHF1l5ubOM",
        "colab_type": "code",
        "colab": {}
      },
      "cell_type": "code",
      "source": [
        "final_model.evaluate(x_test, y_test)"
      ],
      "execution_count": 0,
      "outputs": []
    },
    {
      "metadata": {
        "id": "3y7xghZAsc5L",
        "colab_type": "text"
      },
      "cell_type": "markdown",
      "source": [
        "## ***Conclusion:***\n",
        "\n",
        "#### The model is a good way to start first iteration or experiment of convolutional neural network. Convolutional Neural Network are used to analyze visual imagery such as images and videos. Although many key concepts are not implemented here. Key concepts that should result for better performance and better results, such as:\n",
        "\n",
        "  - Transfer Learning (DenseNet, ResNet, Inception)\n",
        "  - Multi-task Learning\n",
        "  - Model Freezing\n",
        "  - Data Augmentation\n",
        "  - Data Generator \n",
        "  - Callbacks\n",
        "  - Tensorboard\n",
        "  \n",
        "#### I am making this project as a guideline for future competitions and projects. Also, this is a good way to structure my mind towards high level API of tensorflow. "
      ]
    },
    {
      "metadata": {
        "id": "NrkbgQE7sMu2",
        "colab_type": "text"
      },
      "cell_type": "markdown",
      "source": [
        "## ***References:*** \n",
        "\n",
        "  - https://colab.research.google.com/github/tensorflow/docs/blob/master/site/en/r2/tutorials/quickstart/beginner.ipynb#scrollTo=F7dTAzgHDUh7"
      ]
    }
  ]
}